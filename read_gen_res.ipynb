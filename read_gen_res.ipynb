{
 "cells": [
  {
   "cell_type": "code",
   "execution_count": 1,
   "metadata": {},
   "outputs": [
    {
     "name": "stderr",
     "output_type": "stream",
     "text": [
      "/home/ljh/miniconda3/envs/scGAN/lib/python3.5/importlib/_bootstrap.py:222: RuntimeWarning: numpy.dtype size changed, may indicate binary incompatibility. Expected 96, got 88\n",
      "  return f(*args, **kwds)\n",
      "/home/ljh/miniconda3/envs/scGAN/lib/python3.5/importlib/_bootstrap.py:222: RuntimeWarning: numpy.dtype size changed, may indicate binary incompatibility. Expected 96, got 88\n",
      "  return f(*args, **kwds)\n",
      "/home/ljh/miniconda3/envs/scGAN/lib/python3.5/importlib/_bootstrap.py:222: RuntimeWarning: numpy.dtype size changed, may indicate binary incompatibility. Expected 96, got 88\n",
      "  return f(*args, **kwds)\n",
      "/home/ljh/miniconda3/envs/scGAN/lib/python3.5/site-packages/h5py/__init__.py:36: FutureWarning: Conversion of the second argument of issubdtype from `float` to `np.floating` is deprecated. In future, it will be treated as `np.float64 == np.dtype(float).type`.\n",
      "  from ._conv import register_converters as _register_converters\n",
      "/home/ljh/miniconda3/envs/scGAN/lib/python3.5/importlib/_bootstrap.py:222: RuntimeWarning: numpy.dtype size changed, may indicate binary incompatibility. Expected 96, got 88\n",
      "  return f(*args, **kwds)\n",
      "/home/ljh/miniconda3/envs/scGAN/lib/python3.5/importlib/_bootstrap.py:222: RuntimeWarning: numpy.dtype size changed, may indicate binary incompatibility. Expected 96, got 88\n",
      "  return f(*args, **kwds)\n",
      "/home/ljh/miniconda3/envs/scGAN/lib/python3.5/importlib/_bootstrap.py:222: RuntimeWarning: numpy.dtype size changed, may indicate binary incompatibility. Expected 96, got 88\n",
      "  return f(*args, **kwds)\n",
      "/home/ljh/miniconda3/envs/scGAN/lib/python3.5/importlib/_bootstrap.py:222: RuntimeWarning: numpy.dtype size changed, may indicate binary incompatibility. Expected 96, got 88\n",
      "  return f(*args, **kwds)\n",
      "/home/ljh/miniconda3/envs/scGAN/lib/python3.5/importlib/_bootstrap.py:222: RuntimeWarning: numpy.dtype size changed, may indicate binary incompatibility. Expected 96, got 88\n",
      "  return f(*args, **kwds)\n"
     ]
    }
   ],
   "source": [
    "import scanpy.api as sc"
   ]
  },
  {
   "cell_type": "code",
   "execution_count": 2,
   "metadata": {},
   "outputs": [],
   "source": [
    "import pandas as pd"
   ]
  },
  {
   "cell_type": "code",
   "execution_count": 3,
   "metadata": {},
   "outputs": [],
   "source": [
    "input_adata = sc.read_h5ad('./data/h5ad_data/muris.h5ad')\n",
    "process_adata = sc.read_h5ad('./data/res/muris_train/muris.h5ad')"
   ]
  },
  {
   "cell_type": "code",
   "execution_count": 5,
   "metadata": {},
   "outputs": [
    {
     "data": {
      "text/plain": [
       "Trachea            11071\n",
       "Spleen              9517\n",
       "Tongue              7538\n",
       "Lung                5415\n",
       "Limb_Muscle         4528\n",
       "Mammary_Gland       4481\n",
       "Marrow              3563\n",
       "Kidney              2781\n",
       "Bladder             2500\n",
       "Liver               1698\n",
       "Thymus              1429\n",
       "Heart_and_Aorta      623\n",
       "Name: celltype, dtype: int64"
      ]
     },
     "execution_count": 5,
     "metadata": {},
     "output_type": "execute_result"
    }
   ],
   "source": [
    "input_adata.obs['celltype'].value_counts()"
   ]
  },
  {
   "cell_type": "code",
   "execution_count": 7,
   "metadata": {},
   "outputs": [
    {
     "name": "stdout",
     "output_type": "stream",
     "text": [
      "AnnData object with n_obs × n_vars = 55144 × 2000 \n",
      "    obs: 'celltype', 'n_genes', 'counts', 'batch'\n",
      "AnnData object with n_obs × n_vars = 55144 × 2000 \n",
      "    obs: 'celltype', 'n_genes', 'counts', 'batch', 'cluster', 'n_counts', 'split'\n",
      "    var: 'n_cells'\n"
     ]
    }
   ],
   "source": [
    "print(input_adata)\n",
    "print(process_adata)"
   ]
  },
  {
   "cell_type": "code",
   "execution_count": 23,
   "metadata": {},
   "outputs": [],
   "source": [
    "sc.pp.normalize_per_cell(input_adata, counts_per_cell_after=1e4)"
   ]
  },
  {
   "cell_type": "code",
   "execution_count": 24,
   "metadata": {},
   "outputs": [
    {
     "data": {
      "text/plain": [
       "9441.35"
      ]
     },
     "execution_count": 24,
     "metadata": {},
     "output_type": "execute_result"
    }
   ],
   "source": [
    "input_adata.X.max()"
   ]
  },
  {
   "cell_type": "code",
   "execution_count": 10,
   "metadata": {},
   "outputs": [
    {
     "name": "stdout",
     "output_type": "stream",
     "text": [
      "9441.35\n",
      "0.0\n"
     ]
    }
   ],
   "source": [
    "# 处理过后的数据是 normalize total 过的, 这次和使用 scanpy 进行 normalized total 到 1e4 是一个效果\n",
    "process_adata.X\n",
    "print(process_adata.X.max())\n",
    "print(process_adata.X.min())"
   ]
  },
  {
   "cell_type": "code",
   "execution_count": 19,
   "metadata": {},
   "outputs": [
    {
     "data": {
      "text/plain": [
       "0     8601\n",
       "1     8226\n",
       "2     7496\n",
       "3     4878\n",
       "4     3894\n",
       "5     3168\n",
       "6     2279\n",
       "7     2207\n",
       "8     1772\n",
       "9     1660\n",
       "10    1560\n",
       "11    1226\n",
       "12    1206\n",
       "13    1203\n",
       "14     956\n",
       "15     826\n",
       "16     782\n",
       "17     474\n",
       "18     473\n",
       "19     460\n",
       "20     395\n",
       "21     379\n",
       "22     357\n",
       "23     319\n",
       "24     169\n",
       "25      92\n",
       "26      86\n",
       "Name: cluster, dtype: int64"
      ]
     },
     "execution_count": 19,
     "metadata": {},
     "output_type": "execute_result"
    }
   ],
   "source": [
    "process_adata.obs['cluster'].value_counts()"
   ]
  },
  {
   "cell_type": "code",
   "execution_count": 15,
   "metadata": {},
   "outputs": [],
   "source": [
    "cluster_num = list(process_adata.obs['cluster'].value_counts())"
   ]
  },
  {
   "cell_type": "code",
   "execution_count": 18,
   "metadata": {},
   "outputs": [
    {
     "name": "stdout",
     "output_type": "stream",
     "text": [
      "8601 8226 7496 4878 3894 3168 2279 2207 1772 1660 1560 1226 1206 1203 956 826 782 474 473 460 395 379 357 319 169 92 86\n"
     ]
    }
   ],
   "source": [
    "cluster_num = [str(x) for x in cluster_num]\n",
    "print(' '.join(cluster_num))"
   ]
  },
  {
   "cell_type": "markdown",
   "metadata": {},
   "source": [
    "## gen res of scGAN"
   ]
  },
  {
   "cell_type": "code",
   "execution_count": 20,
   "metadata": {},
   "outputs": [],
   "source": [
    "gen_data = sc.read_h5ad('./data/h5ad_data/scGAN_muris.h5ad')"
   ]
  },
  {
   "cell_type": "code",
   "execution_count": 21,
   "metadata": {},
   "outputs": [
    {
     "name": "stdout",
     "output_type": "stream",
     "text": [
      "AnnData object with n_obs × n_vars = 55144 × 2000 \n",
      "    obs: 'cluster'\n"
     ]
    }
   ],
   "source": [
    "print(gen_data)"
   ]
  },
  {
   "cell_type": "code",
   "execution_count": 22,
   "metadata": {},
   "outputs": [
    {
     "data": {
      "text/plain": [
       "0     8601\n",
       "1     8226\n",
       "2     7496\n",
       "3     4878\n",
       "4     3894\n",
       "5     3168\n",
       "6     2279\n",
       "7     2207\n",
       "8     1772\n",
       "9     1660\n",
       "10    1560\n",
       "11    1226\n",
       "12    1206\n",
       "13    1203\n",
       "14     956\n",
       "15     826\n",
       "16     782\n",
       "17     474\n",
       "18     473\n",
       "19     460\n",
       "20     395\n",
       "21     379\n",
       "22     357\n",
       "23     319\n",
       "24     169\n",
       "25      92\n",
       "26      86\n",
       "Name: cluster, dtype: int64"
      ]
     },
     "execution_count": 22,
     "metadata": {},
     "output_type": "execute_result"
    }
   ],
   "source": [
    "gen_data.obs['cluster'].value_counts()"
   ]
  },
  {
   "cell_type": "code",
   "execution_count": null,
   "metadata": {},
   "outputs": [],
   "source": []
  }
 ],
 "metadata": {
  "kernelspec": {
   "display_name": "scGAN",
   "language": "python",
   "name": "python3"
  },
  "language_info": {
   "codemirror_mode": {
    "name": "ipython",
    "version": 3
   },
   "file_extension": ".py",
   "mimetype": "text/x-python",
   "name": "python",
   "nbconvert_exporter": "python",
   "pygments_lexer": "ipython3",
   "version": "3.5.6"
  }
 },
 "nbformat": 4,
 "nbformat_minor": 2
}
